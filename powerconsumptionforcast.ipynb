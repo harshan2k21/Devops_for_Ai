{
 "cells": [
  {
   "cell_type": "code",
   "execution_count": 2,
   "id": "51ed3216-7ff3-44b3-96c7-1409b3eccc33",
   "metadata": {},
   "outputs": [
    {
     "name": "stderr",
     "output_type": "stream",
     "text": [
      "21:12:34 - cmdstanpy - INFO - Chain [1] start processing\n",
      "21:12:58 - cmdstanpy - INFO - Chain [1] done processing\n",
      "21:13:00 - cmdstanpy - INFO - Chain [1] start processing\n",
      "21:13:35 - cmdstanpy - INFO - Chain [1] done processing\n",
      "21:13:36 - cmdstanpy - INFO - Chain [1] start processing\n",
      "21:14:08 - cmdstanpy - INFO - Chain [1] done processing\n"
     ]
    },
    {
     "name": "stdout",
     "output_type": "stream",
     "text": [
      "Forecast for the next 24 hours\n",
      "                     PowerConsumption_Zone1  PowerConsumption_Zone2  \\\n",
      "Datetime                                                              \n",
      "2017-12-31 00:00:00            26356.564146            22243.997519   \n",
      "2017-12-31 00:10:00            25695.372651            21806.979403   \n",
      "2017-12-31 00:20:00            25080.145416            21395.857010   \n",
      "2017-12-31 00:30:00            24512.915434            21012.044204   \n",
      "2017-12-31 00:40:00            23994.608530            20656.315939   \n",
      "...                                     ...                     ...   \n",
      "2017-12-31 23:10:00            30027.616603            25097.014045   \n",
      "2017-12-31 23:20:00            29231.644205            24602.733100   \n",
      "2017-12-31 23:30:00            28455.531336            24118.081237   \n",
      "2017-12-31 23:40:00            27706.452913            23647.403493   \n",
      "2017-12-31 23:50:00            26990.693830            23194.543241   \n",
      "\n",
      "                     PowerConsumption_Zone3  \n",
      "Datetime                                     \n",
      "2017-12-31 00:00:00            12479.032549  \n",
      "2017-12-31 00:10:00            12103.490466  \n",
      "2017-12-31 00:20:00            11754.620800  \n",
      "2017-12-31 00:30:00            11433.432131  \n",
      "2017-12-31 00:40:00            11140.235342  \n",
      "...                                     ...  \n",
      "2017-12-31 23:10:00            14215.514498  \n",
      "2017-12-31 23:20:00            13744.579287  \n",
      "2017-12-31 23:30:00            13285.132939  \n",
      "2017-12-31 23:40:00            12841.498610  \n",
      "2017-12-31 23:50:00            12417.414600  \n",
      "\n",
      "[144 rows x 3 columns]\n"
     ]
    }
   ],
   "source": [
    "import pandas as pd\n",
    "from prophet import Prophet\n",
    "\n",
    "# Load the dataset\n",
    "df = pd.read_csv('powerconsumption.csv', sep=',', parse_dates=['Datetime'])\n",
    "\n",
    "# Columns representing power consumption in different zones\n",
    "power_columns = ['PowerConsumption_Zone1', 'PowerConsumption_Zone2', 'PowerConsumption_Zone3']\n",
    "\n",
    "# Forecasting function using Prophet\n",
    "def prophet_forecast(data, column, future_steps):\n",
    "    # Prepare data for Prophet: Rename columns to 'ds' and 'y' as required by Prophet\n",
    "    prophet_data = data[['Datetime', column]].rename(columns={'Datetime': 'ds', column: 'y'})\n",
    "    \n",
    "    # Create and fit the model\n",
    "    model = Prophet(uncertainty_samples=0)  # Disable uncertainty intervals if not needed\n",
    "    model.fit(prophet_data)\n",
    "    \n",
    "    # Create a dataframe for future predictions (10-minute intervals)\n",
    "    future = model.make_future_dataframe(periods=future_steps, freq='10min')\n",
    "    \n",
    "    # Make predictions\n",
    "    forecast = model.predict(future)\n",
    "    \n",
    "    return forecast[['ds', 'yhat']]\n",
    "\n",
    "# Forecast for the next 24 hours with 10-minute intervals (24 * 6 = 144 steps)\n",
    "future_steps = 24 * 6\n",
    "\n",
    "# Dictionary to store the forecasts for each zone\n",
    "forecasts = {}\n",
    "for column in power_columns:\n",
    "    # Check for missing data and handle it if necessary\n",
    "    if df[column].isna().sum() > 0:\n",
    "        print(f\"Warning: {column} contains missing values, handling them.\")\n",
    "        df[column].fillna(method='ffill', inplace=True)  # Forward fill as an example\n",
    "    \n",
    "    # Generate the forecast for each zone\n",
    "    forecasts[column] = prophet_forecast(df, column, future_steps)\n",
    "\n",
    "# Create a dataframe to hold the forecast results for all zones\n",
    "future_df = pd.DataFrame()\n",
    "future_df['Datetime'] = forecasts[power_columns[0]]['ds']  # Use the datetime from one of the forecasts\n",
    "for column in power_columns:\n",
    "    future_df[column] = forecasts[column]['yhat']\n",
    "\n",
    "# Set the 'Datetime' column as the index\n",
    "future_df.set_index('Datetime', inplace=True)\n",
    "\n",
    "# Extract the forecast for the next 24 hours\n",
    "future_df = future_df.iloc[-future_steps:]\n",
    "\n",
    "# Display the forecast\n",
    "print(\"Forecast for the next 24 hours\")\n",
    "print(future_df)\n"
   ]
  },
  {
   "cell_type": "code",
   "execution_count": null,
   "id": "840cd356-c724-4d0f-97b3-31f62a79ac05",
   "metadata": {},
   "outputs": [],
   "source": [
    "z"
   ]
  }
 ],
 "metadata": {
  "kernelspec": {
   "display_name": "Python 3 (ipykernel)",
   "language": "python",
   "name": "python3"
  },
  "language_info": {
   "codemirror_mode": {
    "name": "ipython",
    "version": 3
   },
   "file_extension": ".py",
   "mimetype": "text/x-python",
   "name": "python",
   "nbconvert_exporter": "python",
   "pygments_lexer": "ipython3",
   "version": "3.12.4"
  }
 },
 "nbformat": 4,
 "nbformat_minor": 5
}
