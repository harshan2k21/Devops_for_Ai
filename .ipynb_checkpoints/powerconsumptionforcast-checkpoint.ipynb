{
 "cells": [
  {
   "cell_type": "code",
   "execution_count": null,
   "id": "51ed3216-7ff3-44b3-96c7-1409b3eccc33",
   "metadata": {},
   "outputs": [],
   "source": [
    "import pandas as pd\n",
    "from prophet import Prophet\n",
    "\n",
    "# Load the dataset\n",
    "df = pd.read_csv('powerconsumption.csv', sep=',', parse_dates=['Datetime'])\n",
    "\n",
    "# Columns representing power consumption in different zones\n",
    "power_columns = ['PowerConsumption_Zone1', 'PowerConsumption_Zone2', 'PowerConsumption_Zone3']\n",
    "\n",
    "# Forecasting function using Prophet\n",
    "def prophet_forecast(data, column, future_steps):\n",
    "    # Prepare data for Prophet: Rename columns to 'ds' and 'y' as required by Prophet\n",
    "    prophet_data = data[['Datetime', column]].rename(columns={'Datetime': 'ds', column: 'y'})\n",
    "    \n",
    "    # Create and fit the model\n",
    "    model = Prophet(uncertainty_samples=0)  # Disable uncertainty intervals if not needed\n",
    "    model.fit(prophet_data)\n",
    "    \n",
    "    # Create a dataframe for future predictions (10-minute intervals)\n",
    "    future = model.make_future_dataframe(periods=future_steps, freq='10min')\n",
    "    \n",
    "    # Make predictions\n",
    "    forecast = model.predict(future)\n",
    "    \n",
    "    return forecast[['ds', 'yhat']]\n",
    "\n",
    "# Forecast for the next 24 hours with 10-minute intervals (24 * 6 = 144 steps)\n",
    "future_steps = 24 * 6\n",
    "\n",
    "# Dictionary to store the forecasts for each zone\n",
    "forecasts = {}\n",
    "for column in power_columns:\n",
    "    # Check for missing data and handle it if necessary\n",
    "    if df[column].isna().sum() > 0:\n",
    "        print(f\"Warning: {column} contains missing values, handling them.\")\n",
    "        df[column].fillna(method='ffill', inplace=True)  # Forward fill as an example\n",
    "    \n",
    "    # Generate the forecast for each zone\n",
    "    forecasts[column] = prophet_forecast(df, column, future_steps)\n",
    "\n",
    "# Create a dataframe to hold the forecast results for all zones\n",
    "future_df = pd.DataFrame()\n",
    "future_df['Datetime'] = forecasts[power_columns[0]]['ds']  # Use the datetime from one of the forecasts\n",
    "for column in power_columns:\n",
    "    future_df[column] = forecasts[column]['yhat']\n",
    "\n",
    "# Set the 'Datetime' column as the index\n",
    "future_df.set_index('Datetime', inplace=True)\n",
    "\n",
    "# Extract the forecast for the next 24 hours\n",
    "future_df = future_df.iloc[-future_steps:]\n",
    "\n",
    "# Display the forecast\n",
    "print(\"Forecast for the next 24 hours\")\n",
    "print(future_df)\n"
   ]
  }
 ],
 "metadata": {
  "kernelspec": {
   "display_name": "Python 3 (ipykernel)",
   "language": "python",
   "name": "python3"
  },
  "language_info": {
   "codemirror_mode": {
    "name": "ipython",
    "version": 3
   },
   "file_extension": ".py",
   "mimetype": "text/x-python",
   "name": "python",
   "nbconvert_exporter": "python",
   "pygments_lexer": "ipython3",
   "version": "3.12.4"
  }
 },
 "nbformat": 4,
 "nbformat_minor": 5
}
