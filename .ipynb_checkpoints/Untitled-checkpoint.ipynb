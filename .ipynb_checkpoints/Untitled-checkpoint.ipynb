{
 "cells": [
  {
   "cell_type": "code",
   "execution_count": 60,
   "id": "78c12b00-8a77-4c3a-9d20-551b4afd6378",
   "metadata": {},
   "outputs": [
    {
     "name": "stdout",
     "output_type": "stream",
     "text": [
      "Recommendations for product P1924:\n",
      "    product_id              name  category    brand   price  rating\n",
      "205      P6624     Premium Dress  Clothing  PlayFun  148.04     3.9\n",
      "874      P9495    Incredible Hat  Clothing  PlayFun   32.26     3.7\n",
      "258      P4135       Amazing Hat  Clothing  PlayFun   33.68     4.3\n",
      "803      P4981     Awesome Jeans  Clothing  PlayFun  160.89     4.5\n",
      "86       P8640  Incredible Shoes  Clothing  PlayFun   46.06     4.5\n"
     ]
    }
   ],
   "source": [
    "import pandas as pd\n",
    "import numpy as np\n",
    "from sklearn.metrics.pairwise import cosine_similarity\n",
    "from sklearn.preprocessing import OneHotEncoder, MinMaxScaler\n",
    "import sklearn\n",
    "\n",
    "# Load the dataset\n",
    "file_path = 'synthetic_products.csv'\n",
    "product_data = pd.read_csv(file_path)\n",
    "\n",
    "# Select relevant features for recommendation: 'category', 'brand', 'price', 'rating'\n",
    "features = product_data[['category', 'brand', 'price', 'rating']]\n",
    "\n",
    "# One-hot encode the categorical columns: 'category' and 'brand'\n",
    "if sklearn.__version__ >= '0.22':\n",
    "    encoder = OneHotEncoder(sparse_output=False, handle_unknown='ignore')\n",
    "else:\n",
    "    encoder = OneHotEncoder(sparse=False, handle_unknown='ignore')\n",
    "encoded_features = encoder.fit_transform(features[['category', 'brand']])\n",
    "\n",
    "# Normalize the 'price' and 'rating' columns for better comparison\n",
    "scaler = MinMaxScaler()\n",
    "price_rating_normalized = scaler.fit_transform(features[['price', 'rating']])\n",
    "\n",
    "# Combine the encoded categorical features with the normalized numerical features\n",
    "combined_features = np.hstack((encoded_features, price_rating_normalized))\n",
    "\n",
    "# Calculate the cosine similarity between all products\n",
    "similarity_matrix = cosine_similarity(combined_features)\n",
    "\n",
    "# Function to get recommendations\n",
    "def get_recommendations(product_id, num_recommendations=5):\n",
    "    # Get the index of the product by matching product_id\n",
    "    idx = product_data.index[product_data['product_id'] == product_id].tolist()\n",
    "    \n",
    "    if not idx:\n",
    "        print(f\"Product ID {product_id} not found.\")\n",
    "        return None\n",
    "    \n",
    "    idx = idx[0]\n",
    "    \n",
    "    # Get similarity scores for this product\n",
    "    similarity_scores = list(enumerate(similarity_matrix[idx]))\n",
    "    \n",
    "    # Sort products by similarity scores (excluding the product itself)\n",
    "    similarity_scores = sorted(similarity_scores, key=lambda x: x[1], reverse=True)[1:num_recommendations+1]\n",
    "    \n",
    "    # Get the recommended product indices\n",
    "    recommended_indices = [i[0] for i in similarity_scores]\n",
    "    \n",
    "    # Return the recommended products\n",
    "    return product_data.iloc[recommended_indices][['product_id', 'name', 'category', 'brand', 'price', 'rating']]\n",
    "\n",
    "# Test the recommendation system with a sample product\n",
    "sample_product_id = 'P1924'\n",
    "recommendations = get_recommendations(sample_product_id)\n",
    "\n",
    "if recommendations is not None:\n",
    "    print(f\"Recommendations for product {sample_product_id}:\")\n",
    "    print(recommendations)\n",
    "else:\n",
    "    print(\"No recommendations available.\")"
   ]
  },
  {
   "cell_type": "markdown",
   "id": "207a0253-1b3b-44c8-b6b4-8c97ff77801f",
   "metadata": {},
   "source": [
    "# 1. Import Required Libraries"
   ]
  },
  {
   "cell_type": "code",
   "execution_count": 64,
   "id": "c20e21ba-631e-4160-90fd-83ce7d2bc262",
   "metadata": {},
   "outputs": [],
   "source": [
    "# Cell 1: Importing necessary libraries\n",
    "import pandas as pd\n",
    "import numpy as np\n",
    "from sklearn.metrics.pairwise import cosine_similarity\n",
    "from sklearn.preprocessing import OneHotEncoder, MinMaxScaler\n",
    "import sklearn\n"
   ]
  },
  {
   "cell_type": "markdown",
   "id": "03862a28-b170-4762-a8bc-630826d3525e",
   "metadata": {},
   "source": [
    "# 2. Load the Dataset"
   ]
  },
  {
   "cell_type": "code",
   "execution_count": 67,
   "id": "f0bdec7f-565e-41e8-b276-639b8e925102",
   "metadata": {},
   "outputs": [
    {
     "data": {
      "text/html": [
       "<div>\n",
       "<style scoped>\n",
       "    .dataframe tbody tr th:only-of-type {\n",
       "        vertical-align: middle;\n",
       "    }\n",
       "\n",
       "    .dataframe tbody tr th {\n",
       "        vertical-align: top;\n",
       "    }\n",
       "\n",
       "    .dataframe thead th {\n",
       "        text-align: right;\n",
       "    }\n",
       "</style>\n",
       "<table border=\"1\" class=\"dataframe\">\n",
       "  <thead>\n",
       "    <tr style=\"text-align: right;\">\n",
       "      <th></th>\n",
       "      <th>product_id</th>\n",
       "      <th>name</th>\n",
       "      <th>category</th>\n",
       "      <th>brand</th>\n",
       "      <th>description</th>\n",
       "      <th>price</th>\n",
       "      <th>rating</th>\n",
       "      <th>num_reviews</th>\n",
       "    </tr>\n",
       "  </thead>\n",
       "  <tbody>\n",
       "    <tr>\n",
       "      <th>0</th>\n",
       "      <td>P1226</td>\n",
       "      <td>Incredible Pillow</td>\n",
       "      <td>Home &amp; Garden</td>\n",
       "      <td>BookWorm</td>\n",
       "      <td>A high-quality home &amp; garden product. This Inc...</td>\n",
       "      <td>476.17</td>\n",
       "      <td>3.2</td>\n",
       "      <td>885</td>\n",
       "    </tr>\n",
       "    <tr>\n",
       "      <th>1</th>\n",
       "      <td>P3436</td>\n",
       "      <td>Premium T-shirt</td>\n",
       "      <td>Clothing</td>\n",
       "      <td>BookWorm</td>\n",
       "      <td>A high-quality clothing product. This Premium ...</td>\n",
       "      <td>66.35</td>\n",
       "      <td>1.4</td>\n",
       "      <td>556</td>\n",
       "    </tr>\n",
       "    <tr>\n",
       "      <th>2</th>\n",
       "      <td>P7441</td>\n",
       "      <td>Incredible Smartphone</td>\n",
       "      <td>Electronics</td>\n",
       "      <td>FashionStyle</td>\n",
       "      <td>A high-quality electronics product. This Incre...</td>\n",
       "      <td>1870.37</td>\n",
       "      <td>1.4</td>\n",
       "      <td>754</td>\n",
       "    </tr>\n",
       "    <tr>\n",
       "      <th>3</th>\n",
       "      <td>P2272</td>\n",
       "      <td>Awesome Smartwatch</td>\n",
       "      <td>Electronics</td>\n",
       "      <td>SportsMaster</td>\n",
       "      <td>A high-quality electronics product. This Aweso...</td>\n",
       "      <td>899.32</td>\n",
       "      <td>3.5</td>\n",
       "      <td>539</td>\n",
       "    </tr>\n",
       "    <tr>\n",
       "      <th>4</th>\n",
       "      <td>P2687</td>\n",
       "      <td>Premium Smartphone</td>\n",
       "      <td>Electronics</td>\n",
       "      <td>HomeComfort</td>\n",
       "      <td>A high-quality electronics product. This Premi...</td>\n",
       "      <td>1587.55</td>\n",
       "      <td>4.1</td>\n",
       "      <td>536</td>\n",
       "    </tr>\n",
       "  </tbody>\n",
       "</table>\n",
       "</div>"
      ],
      "text/plain": [
       "  product_id                   name       category         brand  \\\n",
       "0      P1226      Incredible Pillow  Home & Garden      BookWorm   \n",
       "1      P3436        Premium T-shirt       Clothing      BookWorm   \n",
       "2      P7441  Incredible Smartphone    Electronics  FashionStyle   \n",
       "3      P2272     Awesome Smartwatch    Electronics  SportsMaster   \n",
       "4      P2687     Premium Smartphone    Electronics   HomeComfort   \n",
       "\n",
       "                                         description    price  rating  \\\n",
       "0  A high-quality home & garden product. This Inc...   476.17     3.2   \n",
       "1  A high-quality clothing product. This Premium ...    66.35     1.4   \n",
       "2  A high-quality electronics product. This Incre...  1870.37     1.4   \n",
       "3  A high-quality electronics product. This Aweso...   899.32     3.5   \n",
       "4  A high-quality electronics product. This Premi...  1587.55     4.1   \n",
       "\n",
       "   num_reviews  \n",
       "0          885  \n",
       "1          556  \n",
       "2          754  \n",
       "3          539  \n",
       "4          536  "
      ]
     },
     "execution_count": 67,
     "metadata": {},
     "output_type": "execute_result"
    }
   ],
   "source": [
    "# Cell 2: Load the dataset\n",
    "file_path = 'synthetic_products.csv'\n",
    "product_data = pd.read_csv(file_path)\n",
    "product_data.head()  # Display the first few rows of the dataset\n"
   ]
  },
  {
   "cell_type": "markdown",
   "id": "ec684213-20cc-4901-941d-ec2bbc3003ef",
   "metadata": {},
   "source": [
    "# 3. Select Relevant Features"
   ]
  },
  {
   "cell_type": "code",
   "execution_count": 70,
   "id": "25fad31c-c0ea-4e6b-bf23-1fae4de7d04a",
   "metadata": {},
   "outputs": [],
   "source": [
    "# Cell 3: Select relevant features for the recommendation\n",
    "features = product_data[['category', 'brand', 'price', 'rating']]\n"
   ]
  },
  {
   "cell_type": "markdown",
   "id": "dc5f8fd4-4a35-45da-b553-8db8c89a0816",
   "metadata": {},
   "source": [
    "# 4. One-hot Encoding and Normalization"
   ]
  },
  {
   "cell_type": "code",
   "execution_count": 73,
   "id": "58fe6865-91de-4bd5-81d5-f949509bf681",
   "metadata": {},
   "outputs": [],
   "source": [
    "\n",
    "\n",
    "# Normalize the 'price' and 'rating' columns for better comparison\n",
    "scaler = MinMaxScaler()\n",
    "price_rating_normalized = scaler.fit_transform(features[['price', 'rating']])\n",
    "\n",
    "# Combine the encoded categorical features with the normalized numerical features\n",
    "combined_features = np.hstack((encoded_features, price_rating_normalized))\n",
    "\n",
    "# Calculate the cosine similarity between all products\n",
    "similarity_matrix = cosine_similarity(combined_features)"
   ]
  },
  {
   "cell_type": "markdown",
   "id": "8bb8abc0-d776-43f9-84b7-c433e82d88b9",
   "metadata": {},
   "source": [
    "# 5. Calculate Cosine Similarity"
   ]
  },
  {
   "cell_type": "code",
   "execution_count": 76,
   "id": "4507674b-a69f-4d16-8104-29aee4ab3ee3",
   "metadata": {},
   "outputs": [],
   "source": [
    "# Cell 5: Calculate the cosine similarity matrix\n",
    "similarity_matrix = cosine_similarity(combined_features)\n"
   ]
  },
  {
   "cell_type": "markdown",
   "id": "1ac33cd5-2c5f-4d7a-ba8a-3f96306989cb",
   "metadata": {},
   "source": [
    "# 6. Define Recommendation Function"
   ]
  },
  {
   "cell_type": "code",
   "execution_count": 79,
   "id": "9df69bbe-e555-4e92-ab7e-f9a5d51bcb6b",
   "metadata": {},
   "outputs": [],
   "source": [
    "# Cell 6: Define function to get recommendations based on similarity\n",
    "def get_recommendations(product_id, num_recommendations=5):\n",
    "    # Get the index of the product by matching product_id\n",
    "    idx = product_data.index[product_data['product_id'] == product_id].tolist()\n",
    "    \n",
    "    if not idx:\n",
    "        print(f\"Product ID {product_id} not found.\")\n",
    "        return None\n",
    "    \n",
    "    idx = idx[0]\n",
    "    \n",
    "    # Get similarity scores for this product\n",
    "    similarity_scores = list(enumerate(similarity_matrix[idx]))\n",
    "    \n",
    "    # Sort products by similarity scores (excluding the product itself)\n",
    "    similarity_scores = sorted(similarity_scores, key=lambda x: x[1], reverse=True)[1:num_recommendations+1]\n",
    "    \n",
    "    # Get the recommended product indices\n",
    "    recommended_indices = [i[0] for i in similarity_scores]\n",
    "    \n",
    "    # Return the recommended products\n",
    "    return product_data.iloc[recommended_indices][['product_id', 'name', 'category', 'brand', 'price', 'rating']]\n"
   ]
  },
  {
   "cell_type": "markdown",
   "id": "ca7841fd-5559-4d0d-84be-8612597acc78",
   "metadata": {},
   "source": [
    "# 7. Test the Recommendation System"
   ]
  },
  {
   "cell_type": "code",
   "execution_count": 82,
   "id": "1525c7ed-733f-492c-9b42-44b22268ab94",
   "metadata": {},
   "outputs": [
    {
     "name": "stdin",
     "output_type": "stream",
     "text": [
      "Enter the Product ID to get recommendations:  P1226\n"
     ]
    },
    {
     "name": "stdout",
     "output_type": "stream",
     "text": [
      "Recommendations for product P1226:\n",
      "    product_id             name       category     brand   price  rating\n",
      "640      P4651     Awesome Sofa  Home & Garden  BookWorm  445.28     3.4\n",
      "565       P147  Incredible Vase  Home & Garden  BookWorm  438.40     3.5\n",
      "739      P5724  Fantastic Plant  Home & Garden  BookWorm  431.39     2.9\n",
      "858      P8601     Amazing Sofa  Home & Garden  BookWorm  334.24     3.1\n",
      "708      P9291    Amazing Plant  Home & Garden  BookWorm  423.64     2.9\n"
     ]
    }
   ],
   "source": [
    "# Cell 7: Test the recommendation system\n",
    "sample_product_id = input(\"Enter the Product ID to get recommendations: \")\n",
    "recommendations = get_recommendations(sample_product_id)\n",
    "\n",
    "if recommendations is not None:\n",
    "    print(f\"Recommendations for product {sample_product_id}:\")\n",
    "    print(recommendations)\n",
    "else:\n",
    "    print(\"No recommendations available.\")\n"
   ]
  },
  {
   "cell_type": "code",
   "execution_count": null,
   "id": "4830b759-ec5f-4e92-a871-4c8032a7bf58",
   "metadata": {},
   "outputs": [],
   "source": []
  }
 ],
 "metadata": {
  "kernelspec": {
   "display_name": "Python 3 (ipykernel)",
   "language": "python",
   "name": "python3"
  },
  "language_info": {
   "codemirror_mode": {
    "name": "ipython",
    "version": 3
   },
   "file_extension": ".py",
   "mimetype": "text/x-python",
   "name": "python",
   "nbconvert_exporter": "python",
   "pygments_lexer": "ipython3",
   "version": "3.12.4"
  }
 },
 "nbformat": 4,
 "nbformat_minor": 5
}
