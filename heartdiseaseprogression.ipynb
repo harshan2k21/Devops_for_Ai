{
 "cells": [
  {
   "cell_type": "code",
   "execution_count": 2,
   "id": "1503beb0-a1f6-4170-b206-7ca379b07c04",
   "metadata": {},
   "outputs": [
    {
     "name": "stdout",
     "output_type": "stream",
     "text": [
      "Accuracy: 0.8360655737704918\n",
      "              precision    recall  f1-score   support\n",
      "\n",
      "           0       0.83      0.83      0.83        29\n",
      "           1       0.84      0.84      0.84        32\n",
      "\n",
      "    accuracy                           0.84        61\n",
      "   macro avg       0.84      0.84      0.84        61\n",
      "weighted avg       0.84      0.84      0.84        61\n",
      "\n"
     ]
    }
   ],
   "source": [
    "# Import necessary libraries\n",
    "import pandas as pd\n",
    "from sklearn.model_selection import train_test_split\n",
    "from sklearn.ensemble import RandomForestClassifier\n",
    "from sklearn.metrics import classification_report, accuracy_score\n",
    "\n",
    "# Load the dataset\n",
    "df = pd.read_csv(\"heart prediction.csv\")\n",
    "\n",
    "# Preprocessing (assuming no missing values)\n",
    "X = df.drop(\"target\", axis=1)\n",
    "y = df[\"target\"]\n",
    "\n",
    "# Split data into train and test sets\n",
    "X_train, X_test, y_train, y_test = train_test_split(X, y, test_size=0.2, random_state=42)\n",
    "\n",
    "# Initialize and train the Random Forest model\n",
    "clf = RandomForestClassifier(n_estimators=100, random_state=42)\n",
    "clf.fit(X_train, y_train)\n",
    "\n",
    "# Make predictions\n",
    "y_pred = clf.predict(X_test)\n",
    "\n",
    "# Evaluate the model\n",
    "print(f\"Accuracy: {accuracy_score(y_test, y_pred)}\")\n",
    "print(classification_report(y_test, y_pred))\n"
   ]
  },
  {
   "cell_type": "code",
   "execution_count": 4,
   "id": "ee163b67-5202-425e-a9be-d121d7caa58a",
   "metadata": {},
   "outputs": [
    {
     "name": "stdin",
     "output_type": "stream",
     "text": [
      "Enter age:  23\n",
      "Enter sex (1 = male, 0 = female):  1\n",
      "Enter chest pain type (0-3):  3\n",
      "Enter resting blood pressure (in mm Hg):  133\n",
      "Enter serum cholesterol (in mg/dl):  234\n",
      "Enter fasting blood sugar > 120 mg/dl (1 = true, 0 = false):  0\n",
      "Enter resting electrocardiographic results (0-2):  2\n",
      "Enter maximum heart rate achieved:  155\n",
      "Enter exercise-induced angina (1 = yes, 0 = no):  0\n",
      "Enter ST depression induced by exercise relative to rest:  122\n",
      "Enter the slope of the peak exercise ST segment (0-2):  2\n",
      "Enter number of major vessels (0-3) colored by fluoroscopy:  2\n",
      "Enter thalassemia (1 = normal, 2 = fixed defect, 3 = reversible defect):  1\n"
     ]
    },
    {
     "name": "stdout",
     "output_type": "stream",
     "text": [
      "The model predicts that the patient has heart disease.\n"
     ]
    }
   ],
   "source": [
    "# Function to get user input and predict heart disease\n",
    "def predict_heart_disease():\n",
    "    # Asking for user input for each feature\n",
    "    user_data = {\n",
    "        'age': int(input(\"Enter age: \")),\n",
    "        'sex': int(input(\"Enter sex (1 = male, 0 = female): \")),\n",
    "        'cp': int(input(\"Enter chest pain type (0-3): \")),\n",
    "        'trestbps': int(input(\"Enter resting blood pressure (in mm Hg): \")),\n",
    "        'chol': int(input(\"Enter serum cholesterol (in mg/dl): \")),\n",
    "        'fbs': int(input(\"Enter fasting blood sugar > 120 mg/dl (1 = true, 0 = false): \")),\n",
    "        'restecg': int(input(\"Enter resting electrocardiographic results (0-2): \")),\n",
    "        'thalach': int(input(\"Enter maximum heart rate achieved: \")),\n",
    "        'exang': int(input(\"Enter exercise-induced angina (1 = yes, 0 = no): \")),\n",
    "        'oldpeak': float(input(\"Enter ST depression induced by exercise relative to rest: \")),\n",
    "        'slope': int(input(\"Enter the slope of the peak exercise ST segment (0-2): \")),\n",
    "        'ca': int(input(\"Enter number of major vessels (0-3) colored by fluoroscopy: \")),\n",
    "        'thal': int(input(\"Enter thalassemia (1 = normal, 2 = fixed defect, 3 = reversible defect): \"))\n",
    "    }\n",
    "    \n",
    "    # Convert user data to a dataframe\n",
    "    user_df = pd.DataFrame([user_data])\n",
    "    \n",
    "    # Use the trained model to make a prediction\n",
    "    prediction = clf.predict(user_df)\n",
    "    \n",
    "    # Output the result\n",
    "    if prediction[0] == 1:\n",
    "        print(\"The model predicts that the patient has heart disease.\")\n",
    "    else:\n",
    "        print(\"The model predicts that the patient does NOT have heart disease.\")\n",
    "\n",
    "# Example call to the function (commented out because we can't use input() here\n",
    " \n",
    "# Call the function to test\n",
    "predict_heart_disease()\n"
   ]
  },
  {
   "cell_type": "code",
   "execution_count": null,
   "id": "ee9c2d5b-8598-4884-a5f5-9b6593947a55",
   "metadata": {},
   "outputs": [],
   "source": []
  }
 ],
 "metadata": {
  "kernelspec": {
   "display_name": "Python 3 (ipykernel)",
   "language": "python",
   "name": "python3"
  },
  "language_info": {
   "codemirror_mode": {
    "name": "ipython",
    "version": 3
   },
   "file_extension": ".py",
   "mimetype": "text/x-python",
   "name": "python",
   "nbconvert_exporter": "python",
   "pygments_lexer": "ipython3",
   "version": "3.12.4"
  }
 },
 "nbformat": 4,
 "nbformat_minor": 5
}
