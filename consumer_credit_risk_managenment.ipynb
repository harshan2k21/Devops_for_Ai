{
 "cells": [
  {
   "cell_type": "markdown",
   "id": "9328a614-3d7e-41ae-ac90-3f9c89720aa8",
   "metadata": {},
   "source": [
    "# Bank Loan Default Prediction"
   ]
  },
  {
   "cell_type": "markdown",
   "id": "0a699141-944c-4031-89b8-7d4382512c06",
   "metadata": {},
   "source": [
    " This notebook demonstrates the process of building and evaluating machine learning models to predict bank loan defaults."
   ]
  },
  {
   "cell_type": "markdown",
   "id": "63560ed0-1385-4f13-955f-b50f0efea79c",
   "metadata": {},
   "source": [
    "# 1. Importing Libraries"
   ]
  },
  {
   "cell_type": "code",
   "execution_count": 60,
   "id": "e06bb5ed-2d9f-408a-9656-cc2ae4ca228e",
   "metadata": {},
   "outputs": [],
   "source": [
    "import pandas as pd\n",
    "from sklearn.model_selection import train_test_split\n",
    "from sklearn.preprocessing import StandardScaler\n",
    "from sklearn.linear_model import LogisticRegression\n",
    "from sklearn.ensemble import RandomForestClassifier-\n",
    "from sklearn.metrics import classification_report, accuracy_score, roc_auc_score\n",
    "from imblearn.over_sampling import SMOTE"
   ]
  },
  {
   "cell_type": "markdown",
   "id": "5592d7e9-fd06-47c5-99d9-0f1fa58f31ab",
   "metadata": {},
   "source": [
    "These libraries provide tools for data manipulation, machine learning model creation, evaluation, and handling imbalanced datasets."
   ]
  },
  {
   "cell_type": "markdown",
   "id": "f7cde032-fb44-4c2c-ad60-6172fb5ff351",
   "metadata": {},
   "source": [
    "# 2. Loading and Preprocessing Data"
   ]
  },
  {
   "cell_type": "code",
   "execution_count": 64,
   "id": "c7fc5400-0e6f-42c2-92be-3ab55b9b0a0e",
   "metadata": {},
   "outputs": [],
   "source": [
    "file_path = r'C:\\Users\\Harshan\\Documents\\dfa\\bankloans.csv'\n",
    "data = pd.read_csv(file_path)\n",
    "data['default'] = data['default'].apply(lambda x: 1 if x > 0.5 else 0)\n",
    "data_cleaned = data.dropna(subset=['default'])"
   ]
  },
  {
   "cell_type": "markdown",
   "id": "9387bb68-8211-4ec4-881f-a5f3cb9bc768",
   "metadata": {},
   "source": [
    "This section loads the data from a CSV file and preprocesses it:\n",
    "\n",
    "The 'default' column is converted to binary (0 or 1).\n",
    "Rows with missing values in the 'default' column are removed."
   ]
  },
  {
   "cell_type": "markdown",
   "id": "21cbeee8-8509-447b-b721-8ab0887bebc3",
   "metadata": {},
   "source": [
    "# 3. Splitting Features and Target"
   ]
  },
  {
   "cell_type": "code",
   "execution_count": 69,
   "id": "f4359362-71d7-4768-908b-66cafa0e1470",
   "metadata": {},
   "outputs": [],
   "source": [
    "X = data_cleaned.drop('default', axis=1)\n",
    "y = data_cleaned['default']"
   ]
  },
  {
   "cell_type": "markdown",
   "id": "9d565f69-4bbc-42b1-9242-6b9f43f5d3c0",
   "metadata": {},
   "source": [
    "The features (X) and target variable (y) are separated."
   ]
  },
  {
   "cell_type": "markdown",
   "id": "e097267f-bdbf-48b1-b27e-574d4475c87f",
   "metadata": {},
   "source": [
    "# 4. Train-Test Split and Scaling"
   ]
  },
  {
   "cell_type": "code",
   "execution_count": 73,
   "id": "5be4f261-d6f0-4a48-b106-528ad16a6585",
   "metadata": {},
   "outputs": [],
   "source": [
    "X_train, X_test, y_train, y_test = train_test_split(X, y, test_size=0.3, random_state=42)\n",
    "scaler = StandardScaler()\n",
    "X_train_scaled = scaler.fit_transform(X_train)\n",
    "X_test_scaled = scaler.transform(X_test)"
   ]
  },
  {
   "cell_type": "markdown",
   "id": "54995f10-1beb-49f8-9b7e-682ce38bcccb",
   "metadata": {},
   "source": [
    "The data is split into training and testing sets, then scaled to standardize the features."
   ]
  },
  {
   "cell_type": "markdown",
   "id": "1d4a6bf8-2d25-4e53-8692-97af6662c392",
   "metadata": {},
   "source": [
    "# 5. Handling Imbalanced Data"
   ]
  },
  {
   "cell_type": "code",
   "execution_count": 77,
   "id": "b6252004-b2d7-4aba-84f0-36166b3287cf",
   "metadata": {},
   "outputs": [],
   "source": [
    "smote = SMOTE()\n",
    "X_train_bal, y_train_bal = smote.fit_resample(X_train_scaled, y_train)"
   ]
  },
  {
   "cell_type": "markdown",
   "id": "ba2ed97a-9b4f-47fa-9011-9e9c5b7fe144",
   "metadata": {},
   "source": [
    "SMOTE (Synthetic Minority Over-sampling Technique) is used to balance the dataset by creating synthetic samples of the minority class\n",
    "\n"
   ]
  },
  {
   "cell_type": "markdown",
   "id": "57edbf0b-ae2a-4efe-9f4e-da246b4e12e3",
   "metadata": {},
   "source": [
    "# 6. Training and Evaluating Logistic Regression"
   ]
  },
  {
   "cell_type": "code",
   "execution_count": 81,
   "id": "2c55acd8-a045-4e86-bf91-4a7df619d2ab",
   "metadata": {},
   "outputs": [
    {
     "name": "stdout",
     "output_type": "stream",
     "text": [
      "Logistic Regression Report:\n",
      "              precision    recall  f1-score   support\n",
      "\n",
      "           0       0.89      0.70      0.78       284\n",
      "           1       0.30      0.61      0.40        61\n",
      "\n",
      "    accuracy                           0.68       345\n",
      "   macro avg       0.60      0.65      0.59       345\n",
      "weighted avg       0.79      0.68      0.72       345\n",
      "\n",
      "Logistic Regression Accuracy: 0.6811594202898551\n",
      "Logistic Regression AUC-ROC: 0.7476333410297853\n"
     ]
    }
   ],
   "source": [
    "log_reg = LogisticRegression()\n",
    "log_reg.fit(X_train_bal, y_train_bal)\n",
    "y_pred_log = log_reg.predict(X_test_scaled)\n",
    "print(\"Logistic Regression Report:\")\n",
    "print(classification_report(y_test, y_pred_log))\n",
    "print(\"Logistic Regression Accuracy:\", accuracy_score(y_test, y_pred_log))\n",
    "print(\"Logistic Regression AUC-ROC:\", roc_auc_score(y_test, log_reg.predict_proba(X_test_scaled)[:, 1]))"
   ]
  },
  {
   "cell_type": "markdown",
   "id": "5fbf5e17-bd6c-40c5-925d-b103ebc4d1f9",
   "metadata": {},
   "source": [
    "A logistic regression model is trained and evaluated using various metrics."
   ]
  },
  {
   "cell_type": "markdown",
   "id": "fd8c4ef3-df4e-4d16-9e6b-50f4039fccf6",
   "metadata": {},
   "source": [
    "# 7. Training and Evaluating Random Forest"
   ]
  },
  {
   "cell_type": "code",
   "execution_count": 85,
   "id": "1cd83bbe-5dac-4c18-8ae4-45373e27199e",
   "metadata": {},
   "outputs": [
    {
     "name": "stdout",
     "output_type": "stream",
     "text": [
      "\n",
      "Random Forest Report:\n",
      "              precision    recall  f1-score   support\n",
      "\n",
      "           0       0.88      0.91      0.90       284\n",
      "           1       0.51      0.44      0.47        61\n",
      "\n",
      "    accuracy                           0.83       345\n",
      "   macro avg       0.70      0.68      0.68       345\n",
      "weighted avg       0.82      0.83      0.82       345\n",
      "\n",
      "Random Forest Accuracy: 0.8260869565217391\n",
      "Random Forest AUC-ROC: 0.7891364580928192\n"
     ]
    }
   ],
   "source": [
    "rf_model = RandomForestClassifier()\n",
    "rf_model.fit(X_train_bal, y_train_bal)\n",
    "y_pred_rf = rf_model.predict(X_test_scaled)\n",
    "print(\"\\nRandom Forest Report:\")\n",
    "print(classification_report(y_test, y_pred_rf))\n",
    "print(\"Random Forest Accuracy:\", accuracy_score(y_test, y_pred_rf))\n",
    "print(\"Random Forest AUC-ROC:\", roc_auc_score(y_test, rf_model.predict_proba(X_test_scaled)[:, 1]))"
   ]
  },
  {
   "cell_type": "markdown",
   "id": "02b2f5b0-c782-4717-99be-eeaf9b4464f2",
   "metadata": {},
   "source": [
    "A random forest model is trained and evaluated using the same metrics as the logistic regression model."
   ]
  },
  {
   "cell_type": "code",
   "execution_count": 88,
   "id": "6b8fd489-25f3-4537-9097-d0b76fbddbee",
   "metadata": {},
   "outputs": [],
   "source": [
    "# 8. Function to Predict Default Status"
   ]
  },
  {
   "cell_type": "code",
   "execution_count": 90,
   "id": "f227810f-7e34-4764-84bb-d03eac80b507",
   "metadata": {},
   "outputs": [],
   "source": [
    "def predict_default(input_data):\n",
    "    input_df = pd.DataFrame([input_data], columns=X.columns)\n",
    "    input_scaled = scaler.transform(input_df)\n",
    "    \n",
    "    log_reg_pred = log_reg.predict(input_scaled)[0]\n",
    "    log_reg_prob = log_reg.predict_proba(input_scaled)[0][1]\n",
    "    \n",
    "    rf_pred = rf_model.predict(input_scaled)[0]\n",
    "    rf_prob = rf_model.predict_proba(input_scaled)[0][1]\n",
    "    \n",
    "    return {\n",
    "        'Logistic Regression': {'Default Prediction': log_reg_pred, 'Probability': log_reg_prob},\n",
    "        'Random Forest': {'Default Prediction': rf_pred, 'Probability': rf_prob}\n",
    "    }"
   ]
  },
  {
   "cell_type": "markdown",
   "id": "e698b7ab-b3ee-4c88-804e-0d2acfb25f10",
   "metadata": {},
   "source": [
    "This function takes new input data and returns predictions from both models."
   ]
  },
  {
   "cell_type": "markdown",
   "id": "a7190b9a-d558-41d5-9a04-c863b16e8198",
   "metadata": {},
   "source": [
    "# 9. User Input and Prediction"
   ]
  },
  {
   "cell_type": "code",
   "execution_count": 94,
   "id": "e32bc506-aca7-4bd4-8b7a-9a0a6ad63092",
   "metadata": {},
   "outputs": [
    {
     "name": "stdin",
     "output_type": "stream",
     "text": [
      "Enter age:  23\n",
      "Enter education level (e.g., 1, 2, 3...):  1\n",
      "Enter years of employment:  23\n",
      "Enter number of years at current address:  12\n",
      "Enter annual income (in thousands):  122\n",
      "Enter debt-to-income ratio (as a percentage):  1.2\n",
      "Enter credit card debt:  33\n",
      "Enter other debts:  2.3\n"
     ]
    },
    {
     "name": "stdout",
     "output_type": "stream",
     "text": [
      "\n",
      "Prediction for the new input:\n",
      "{'Logistic Regression': {'Default Prediction': 1, 'Probability': 0.9988290728413297}, 'Random Forest': {'Default Prediction': 0, 'Probability': 0.38}}\n"
     ]
    }
   ],
   "source": [
    "new_input = [\n",
    "    float(input(\"Enter age: \")),\n",
    "    int(input(\"Enter education level (e.g., 1, 2, 3...): \")),\n",
    "    float(input(\"Enter years of employment: \")),\n",
    "    float(input(\"Enter number of years at current address: \")),\n",
    "    float(input(\"Enter annual income (in thousands): \")),\n",
    "    float(input(\"Enter debt-to-income ratio (as a percentage): \")),\n",
    "    float(input(\"Enter credit card debt: \")),\n",
    "    float(input(\"Enter other debts: \"))\n",
    "]\n",
    "result = predict_default(new_input)\n",
    "print(\"\\nPrediction for the new input:\")\n",
    "print(result)"
   ]
  },
  {
   "cell_type": "markdown",
   "id": "e862104a-dc89-4267-b5c9-2f0ecdbf6a18",
   "metadata": {},
   "source": [
    "This section prompts the user for input data and uses the predict_default function to make predictions."
   ]
  },
  {
   "cell_type": "markdown",
   "id": "6712fc48-a184-464c-924e-2115d7195e7f",
   "metadata": {},
   "source": [
    "# create an ROC (Receiver Operating Characteristic) \n"
   ]
  },
  {
   "cell_type": "code",
   "execution_count": 97,
   "id": "7537b02a-0592-43bf-8131-a179fb1d7952",
   "metadata": {},
   "outputs": [
    {
     "data": {
      "image/png": "[encoded data removed]",
      "text/plain": [
       "<Figure size 1000x800 with 1 Axes>"
      ]
     },
     "metadata": {},
     "output_type": "display_data"
    }
   ],
   "source": [
    "import matplotlib.pyplot as plt\n",
    "from sklearn.metrics import roc_curve, auc\n",
    "\n",
    "# Get the probabilities for the positive class\n",
    "y_pred_proba_log = log_reg.predict_proba(X_test_scaled)[:, 1]\n",
    "y_pred_proba_rf = rf_model.predict_proba(X_test_scaled)[:, 1]\n",
    "\n",
    "# Calculate ROC curve and AUC for Logistic Regression\n",
    "fpr_log, tpr_log, _ = roc_curve(y_test, y_pred_proba_log)\n",
    "roc_auc_log = auc(fpr_log, tpr_log)\n",
    "\n",
    "# Calculate ROC curve and AUC for Random Forest\n",
    "fpr_rf, tpr_rf, _ = roc_curve(y_test, y_pred_proba_rf)\n",
    "roc_auc_rf = auc(fpr_rf, tpr_rf)\n",
    "\n",
    "# Plot ROC curves\n",
    "plt.figure(figsize=(10, 8))\n",
    "plt.plot(fpr_log, tpr_log, color='blue', lw=2, label=f'Logistic Regression (AUC = {roc_auc_log:.2f})')\n",
    "plt.plot(fpr_rf, tpr_rf, color='red', lw=2, label=f'Random Forest (AUC = {roc_auc_rf:.2f})')\n",
    "plt.plot([0, 1], [0, 1], color='gray', lw=2, linestyle='--')\n",
    "plt.fill_between(fpr_log, tpr_log, color='blue', alpha=0.2)\n",
    "plt.fill_between(fpr_rf, tpr_rf, color='red', alpha=0.2)\n",
    "\n",
    "plt.xlim([0.0, 1.0])\n",
    "plt.ylim([0.0, 1.05])\n",
    "plt.xlabel('False Positive Rate')\n",
    "plt.ylabel('True Positive Rate')\n",
    "plt.title('Receiver Operating Characteristic (ROC) Curve')\n",
    "plt.legend(loc=\"lower right\")\n",
    "plt.grid(True)\n",
    "plt.show()"
   ]
  },
  {
   "cell_type": "markdown",
   "id": "6b177ef2-5e7f-4f14-a7e8-388d310c1136",
   "metadata": {},
   "source": [
    "# Conclusion"
   ]
  },
  {
   "cell_type": "markdown",
   "id": "4591dbd9-6a13-473d-9f1a-32b98a5c8cb8",
   "metadata": {},
   "source": [
    "This notebook demonstrates a complete machine learning workflow for predicting bank loan defaults,\n",
    "including data preprocessing, model training, evaluation, and making predictions on new data. \n",
    "The use of both Logistic Regression and Random Forest classifiers allows for comparison between different model types."
   ]
  },
  {
   "cell_type": "code",
   "execution_count": null,
   "id": "77d93d34-f0c9-4bd7-ac78-ac1e5fa3bcaf",
   "metadata": {},
   "outputs": [],
   "source": []
  }
 ],
 "metadata": {
  "kernelspec": {
   "display_name": "Python 3 (ipykernel)",
   "language": "python",
   "name": "python3"
  },
  "language_info": {
   "codemirror_mode": {
    "name": "ipython",
    "version": 3
   },
   "file_extension": ".py",
   "mimetype": "text/x-python",
   "name": "python",
   "nbconvert_exporter": "python",
   "pygments_lexer": "ipython3",
   "version": "3.12.4"
  }
 },
 "nbformat": 4,
 "nbformat_minor": 5
}
